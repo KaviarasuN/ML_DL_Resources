{
  "nbformat": 4,
  "nbformat_minor": 0,
  "metadata": {
    "colab": {
      "provenance": []
    },
    "kernelspec": {
      "name": "python3",
      "display_name": "Python 3"
    },
    "language_info": {
      "name": "python"
    }
  },
  "cells": [
    {
      "cell_type": "code",
      "execution_count": null,
      "metadata": {
        "id": "KQxxJEX7eRnR"
      },
      "outputs": [],
      "source": [
        "import pandas as pd\n",
        "from sklearn.linear_model import LogisticRegression\n",
        "from sklearn.model_selection import train_test_split\n",
        "from sklearn.metrics import accuracy_score"
      ]
    },
    {
      "cell_type": "code",
      "source": [
        "data = {\n",
        "    'SAT_score': [1450, 1320, 1500, 1420, 1550, 1480, 1360, 1700, 1650, 1680],\n",
        "    'GPA': [3.45, 3.20, 3.75, 3.30, 3.90, 3.65, 3.15, 3.95, 3.85, 3.90],\n",
        "    'Admitted': [1, 0, 1, 0, 1, 1, 0, 1, 1, 1]\n",
        "}\n",
        "df = pd.DataFrame(data)\n",
        "# df = pd.read_csv('student_data.csv')"
      ],
      "metadata": {
        "id": "SlrsW6D0egkT"
      },
      "execution_count": null,
      "outputs": []
    },
    {
      "cell_type": "code",
      "source": [],
      "metadata": {
        "id": "FjBJONxPDEUB"
      },
      "execution_count": null,
      "outputs": []
    },
    {
      "cell_type": "markdown",
      "source": [],
      "metadata": {
        "id": "2QA5m4CKfP_s"
      }
    },
    {
      "cell_type": "code",
      "source": [
        "X = df[['SAT_score', 'GPA']]\n",
        "y = df['Admitted']"
      ],
      "metadata": {
        "id": "3uksXeYCemUA"
      },
      "execution_count": null,
      "outputs": []
    },
    {
      "cell_type": "code",
      "source": [
        "X_train, X_test, y_train, y_test = train_test_split(X, y, test_size=0.4, random_state=42)"
      ],
      "metadata": {
        "id": "n3Kda6BxeqPT"
      },
      "execution_count": null,
      "outputs": []
    },
    {
      "cell_type": "code",
      "source": [
        "model = LogisticRegression()\n",
        "\n",
        "# Train the model using the training data\n",
        "model.fit(X_train, y_train)\n",
        "\n",
        "# Make predictions on the testing data\n",
        "y_pred = model.predict(X_test)"
      ],
      "metadata": {
        "id": "A5HAobVUetOd"
      },
      "execution_count": null,
      "outputs": []
    },
    {
      "cell_type": "code",
      "source": [
        "accuracy = accuracy_score(y_test, y_pred)\n",
        "print(\"Accuracy:\", accuracy)"
      ],
      "metadata": {
        "colab": {
          "base_uri": "https://localhost:8080/"
        },
        "id": "xg2g3vy2ewdv",
        "outputId": "aad9cf7f-57e1-4dac-9027-e713e8212efb"
      },
      "execution_count": null,
      "outputs": [
        {
          "output_type": "stream",
          "name": "stdout",
          "text": [
            "Accuracy: 0.75\n"
          ]
        }
      ]
    },
    {
      "cell_type": "code",
      "source": [
        "from sklearn import metrics\n",
        "cm = metrics.confusion_matrix(y_test,y_pred)\n",
        "print (cm)"
      ],
      "metadata": {
        "colab": {
          "base_uri": "https://localhost:8080/"
        },
        "id": "B4Rq6JtSDFrR",
        "outputId": "5c8c2872-3a36-4bd8-d274-6be2a2120423"
      },
      "execution_count": null,
      "outputs": [
        {
          "output_type": "stream",
          "name": "stdout",
          "text": [
            "[[1 0]\n",
            " [1 2]]\n"
          ]
        }
      ]
    }
  ]
}
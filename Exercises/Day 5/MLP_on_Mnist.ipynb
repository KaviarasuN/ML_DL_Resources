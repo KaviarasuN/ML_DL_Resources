{
  "cells": [
    {
      "attachments": {},
      "cell_type": "markdown",
      "metadata": {
        "id": "B3-_L8iItqEj"
      },
      "source": [
        "# Hands On - MLP on MNIST dataset\n",
        "\n",
        "▶ The MNIST database (Modified National Institute of Standards and Technology database) is a large database of handwritten digits that is commonly used for training various image processing systems.\n",
        "\n",
        "▶ The MNIST data consists of 60,000 training images and 10,000 test images\n",
        "\n",
        "▶ Each image is a crude 28 x 28 (784 pixels) handwritten digit from \"0\" to \"9.\" Each pixel value is a grayscale integer between 0 and 255."
      ]
    },
    {
      "cell_type": "markdown",
      "metadata": {
        "id": "Ym82h9aYvIqn"
      },
      "source": [
        "**Import essential libraries**"
      ]
    },
    {
      "cell_type": "code",
      "execution_count": 1,
      "metadata": {
        "id": "Vfma4S11slBi"
      },
      "outputs": [],
      "source": [
        "\"\"\"\n",
        "keras.datasets :  holds a list of custom pre-built datasets for ready use\n",
        "keras.utils : package that contains utils / helper functions for pre-processing data\n",
        "\"\"\"\n",
        "\n",
        "#Importing MNIST dataset\n",
        "from keras.datasets import mnist\n",
        "# The np_utils module provides utilities for converting data types and manipulating arrays.\n",
        "from keras.utils import np_utils"
      ]
    },
    {
      "cell_type": "code",
      "execution_count": 30,
      "metadata": {
        "id": "93ZgBlyixOR5"
      },
      "outputs": [],
      "source": [
        "\"\"\"\n",
        "matplotlib : collection of functions that creates various types of plots and visualizations.\n",
        "matplotlib inline :  to set the backend of matplotlib to inline, ensuring that plots are displayed within the notebook cells.\n",
        "\"\"\"\n",
        "import matplotlib.pyplot as plt\n",
        "%matplotlib inline\n",
        "import numpy as np"
      ]
    },
    {
      "cell_type": "markdown",
      "metadata": {
        "id": "LS9yuuFUyI-V"
      },
      "source": [
        "**Load dataset**"
      ]
    },
    {
      "cell_type": "code",
      "execution_count": 3,
      "metadata": {
        "colab": {
          "base_uri": "https://localhost:8080/"
        },
        "id": "VJw7TJNGxOJm",
        "outputId": "4e00d0fb-534c-4f72-d16c-7cc5b07d3fc7"
      },
      "outputs": [
        {
          "name": "stdout",
          "output_type": "stream",
          "text": [
            "Downloading data from https://storage.googleapis.com/tensorflow/tf-keras-datasets/mnist.npz\n",
            "11490434/11490434 [==============================] - 0s 0us/step\n"
          ]
        }
      ],
      "source": [
        "\"\"\"\n",
        "X_train : input data, which are images of handwritten digits\n",
        "y_train : the corresponding labels, which are the actual digits represented in the images.\n",
        "X_test  : the input data for testing\n",
        "y_test  : the corresponding labels for the testing data.\n",
        "\n",
        "\"\"\"\n",
        "\n",
        "#load_data : unpacks the data into tuples : (X_train, y_train) and (X_test, y_test)\n",
        "(X_train, y_train), (X_test, y_test) = mnist.load_data()"
      ]
    },
    {
      "cell_type": "code",
      "execution_count": 18,
      "metadata": {
        "id": "0GyVZghB48mY"
      },
      "outputs": [],
      "source": [
        "# print(X_train[0])"
      ]
    },
    {
      "cell_type": "code",
      "execution_count": 8,
      "metadata": {
        "colab": {
          "base_uri": "https://localhost:8080/"
        },
        "id": "fjn2Z0oLxN40",
        "outputId": "041ec488-d6a1-42cf-ce66-069859787471"
      },
      "outputs": [
        {
          "name": "stdout",
          "output_type": "stream",
          "text": [
            "(60000, 28, 28)\n",
            "(60000,)\n",
            "(10000, 28, 28)\n",
            "(10000,)\n"
          ]
        }
      ],
      "source": [
        "\"\"\"\n",
        ".shape : helps to view the dimensions of the numpy array\n",
        "\"\"\"\n",
        "\n",
        "print(X_train.shape)\n",
        "print(y_train.shape)\n",
        "print(X_test.shape)\n",
        "print(y_test.shape)"
      ]
    },
    {
      "cell_type": "code",
      "execution_count": 9,
      "metadata": {
        "colab": {
          "base_uri": "https://localhost:8080/"
        },
        "id": "tAisq2owy59E",
        "outputId": "4f14504c-5399-402d-e106-f589855af2ce"
      },
      "outputs": [
        {
          "name": "stdout",
          "output_type": "stream",
          "text": [
            "Number of training examples : 60000 and each image is of shape (28, 28)\n",
            "Number of training examples : 10000 and each image is of shape (28, 28)\n"
          ]
        }
      ],
      "source": [
        "print(\"Number of training examples :\", X_train.shape[0], \"and each image is of shape (%d, %d)\"%(X_train.shape[1], X_train.shape[2]))\n",
        "print(\"Number of training examples :\", X_test.shape[0], \"and each image is of shape (%d, %d)\"%(X_test.shape[1], X_test.shape[2]))"
      ]
    },
    {
      "cell_type": "markdown",
      "metadata": {
        "id": "FhNbP4UzzkMs"
      },
      "source": [
        "**Visualizing train and test images**"
      ]
    },
    {
      "cell_type": "code",
      "execution_count": 11,
      "metadata": {
        "colab": {
          "base_uri": "https://localhost:8080/",
          "height": 433
        },
        "id": "EXjTylMGzePA",
        "outputId": "6e01355a-aa46-44dc-e7af-cf5c850ca06d"
      },
      "outputs": [
        {
          "data": {
            "image/png": "[encoded data removed]",
            "text/plain": [
              "<Figure size 640x480 with 9 Axes>"
            ]
          },
          "metadata": {},
          "output_type": "display_data"
        }
      ],
      "source": [
        "\"\"\"\n",
        "plt.subplot() : divides the figure into a grid of subplots.\n",
        "330 : shorthand notation for a 3x3 grid of subplots\n",
        "1 + i : the position of the current subplot within the grid.\n",
        "\"\"\"\n",
        "\n",
        "for i in range(9):\n",
        " # define subplot\n",
        " plt.subplot(330 + 1 + i)\n",
        " # plot raw pixel data\n",
        " plt.imshow(X_train[i], cmap=plt.get_cmap('gray'))\n",
        "# show the figure\n",
        "plt.show()"
      ]
    },
    {
      "cell_type": "markdown",
      "metadata": {
        "id": "GUJy_0su0_y4"
      },
      "source": [
        "**Pre-processing : Training data**\n",
        "\n",
        "---\n",
        "\n",
        "> Reshape array\n",
        "\n",
        "> Normalize data\n",
        "\n",
        "> Do labelling\n"
      ]
    },
    {
      "cell_type": "code",
      "execution_count": 12,
      "metadata": {
        "id": "r5nOs7wy00h5"
      },
      "outputs": [],
      "source": [
        "\"\"\"\n",
        "Reshaping the input data from a 2D format to a 1D format\n",
        "\n",
        "X_train.shape[0] : the number of samples in the training dataset.\n",
        "X_train.shape[1] : the height of each image.\n",
        "X_train.shape[2] : the width of each image.\n",
        "\n",
        "rows = number of samples\n",
        "columns = height * width (28 * 28 = 784)\n",
        "\n",
        "\"\"\"\n",
        "\n",
        "#convert 2d to 1d\n",
        "X_train = X_train.reshape(X_train.shape[0], X_train.shape[1]*X_train.shape[2])\n",
        "X_test = X_test.reshape(X_test.shape[0], X_test.shape[1]*X_test.shape[2])"
      ]
    },
    {
      "cell_type": "code",
      "execution_count": 14,
      "metadata": {
        "colab": {
          "base_uri": "https://localhost:8080/"
        },
        "id": "AtVS9QR01yHT",
        "outputId": "7811e89d-0853-4066-9943-0e5f5d20c329"
      },
      "outputs": [
        {
          "name": "stdout",
          "output_type": "stream",
          "text": [
            "(60000, 784)\n",
            "(10000, 784)\n"
          ]
        }
      ],
      "source": [
        "\"\"\"\n",
        ".shape : helps to view the dimensions of the input array\n",
        "\"\"\"\n",
        "\n",
        "print(X_train.shape)\n",
        "print(X_test.shape)"
      ]
    },
    {
      "cell_type": "code",
      "execution_count": 15,
      "metadata": {
        "id": "lfNZKeQA1rjh"
      },
      "outputs": [],
      "source": [
        "\"\"\"\n",
        "Pixel scaling : the original range of 0 to 255 to a new range of 0 to 1.\n",
        "This normalization is done by dividing each pixel value by the maximum value (255 in this case).\n",
        "\n",
        "pixel values are typically represented as integers between 0 and 255,\n",
        "where 0 represents black and 255 represents white.\n",
        "\n",
        "\"\"\"\n",
        "\n",
        "X_train = X_train/255\n",
        "X_test = X_test/255"
      ]
    },
    {
      "cell_type": "code",
      "execution_count": 19,
      "metadata": {
        "id": "c_ydwYEJ4o1e"
      },
      "outputs": [],
      "source": [
        "# print(X_train[0])"
      ]
    },
    {
      "cell_type": "markdown",
      "metadata": {
        "id": "4RJtdmST5KRV"
      },
      "source": [
        "**Pre-processing : Target values**\n"
      ]
    },
    {
      "cell_type": "code",
      "execution_count": 20,
      "metadata": {
        "colab": {
          "base_uri": "https://localhost:8080/"
        },
        "id": "9fNk0lAo5EwI",
        "outputId": "219a3786-7f92-417f-8877-b75663da5bc2"
      },
      "outputs": [
        {
          "name": "stdout",
          "output_type": "stream",
          "text": [
            "Class label of first image : 5\n"
          ]
        }
      ],
      "source": [
        "print(\"Class label of first image :\", y_train[0])"
      ]
    },
    {
      "cell_type": "code",
      "execution_count": 21,
      "metadata": {
        "id": "DxNT0R9T5Erm"
      },
      "outputs": [],
      "source": [
        "\"\"\"\n",
        "One-hot encoding is a technique used to represent categorical data, such as class labels, as binary vectors.\n",
        "to_categorical() from the np_utils module :\n",
        "      Arguments :\n",
        "          y_train  : original class labels\n",
        "          10.      : total number of classes\n",
        "\n",
        "\"\"\"\n",
        "\n",
        "#One-hot encoding\n",
        "Y_train = np_utils.to_categorical(y_train, 10)\n",
        "Y_test = np_utils.to_categorical(y_test, 10)"
      ]
    },
    {
      "cell_type": "code",
      "execution_count": 22,
      "metadata": {
        "colab": {
          "base_uri": "https://localhost:8080/"
        },
        "id": "1WgKZtZ64oo1",
        "outputId": "059bab7c-1ffa-4391-fce7-6a1fab7ceb08"
      },
      "outputs": [
        {
          "name": "stdout",
          "output_type": "stream",
          "text": [
            "After converting the output into a vector :  [0. 0. 0. 0. 0. 1. 0. 0. 0. 0.]\n"
          ]
        }
      ],
      "source": [
        "\"\"\"\n",
        "Each element of the vector represents the presence or absence of a specific class\n",
        "  1 indicating the presence of the class\n",
        "  0 indicating the absence\n",
        "\"\"\"\n",
        "\n",
        "print(\"After converting the output into a vector : \",Y_train[0])"
      ]
    },
    {
      "cell_type": "markdown",
      "metadata": {
        "id": "o8ID_w9H6xyS"
      },
      "source": [
        "**Building a basic Model**"
      ]
    },
    {
      "cell_type": "code",
      "execution_count": 23,
      "metadata": {
        "id": "maTn2B3b6It7"
      },
      "outputs": [],
      "source": [
        "\"\"\"\n",
        "\n",
        "keras.model\n",
        "  -> Sequential : Used to build models layer by layer.\n",
        "                  provides a linear stack of layers, where each layer has exactly one input tensor and one output tensor.\n",
        "\n",
        "keras.layers\n",
        "  -> Dense      : represents a fully connected layer\n",
        "  -> Activation : Functions that introduces non-linearity to the model\n",
        "\n",
        "\"\"\"\n",
        "\n",
        "from keras.models import Sequential\n",
        "from keras.layers import Dense, Activation"
      ]
    },
    {
      "cell_type": "code",
      "execution_count": 25,
      "metadata": {
        "id": "Tkn_Ge7e9AoP"
      },
      "outputs": [],
      "source": [
        "\"\"\"\n",
        "input_dim : number of features(columns) in the input data\n",
        "output_dim : there are 10 possible output classes, corresponding to the digits 0 to 9.\n",
        "\n",
        "\"\"\"\n",
        "\n",
        "input_dim = X_train.shape[1] #784\n",
        "output_dim = 10 #0-9"
      ]
    },
    {
      "cell_type": "code",
      "execution_count": 26,
      "metadata": {
        "id": "hzfj0JrJ9kMo"
      },
      "outputs": [],
      "source": [
        "\"\"\"\n",
        "model : an object used to build and train the model\n",
        "\n",
        "model :\n",
        "\n",
        "      - Sequential class - represents a linear stack of layers\n",
        "      - Dense layer : a fully connected layer\n",
        "          - softmax activation : used for multi-class classification problems.\n",
        "\n",
        "      - model compile\n",
        "\"\"\"\n",
        "\n",
        "model = Sequential()\n",
        "model.add(Dense(output_dim, input_dim=input_dim, activation='softmax'))\n",
        "model.compile(optimizer='sgd', loss='categorical_crossentropy', metrics=['accuracy'])"
      ]
    },
    {
      "cell_type": "code",
      "execution_count": 27,
      "metadata": {
        "colab": {
          "base_uri": "https://localhost:8080/"
        },
        "id": "_HpBrV3O-y_F",
        "outputId": "04237faa-394e-4b95-845c-23c7d44cc7e1"
      },
      "outputs": [
        {
          "name": "stdout",
          "output_type": "stream",
          "text": [
            "Epoch 1/20\n",
            "469/469 [==============================] - 2s 4ms/step - loss: 1.2766 - accuracy: 0.6968 - val_loss: 0.8082 - val_accuracy: 0.8354\n",
            "Epoch 2/20\n",
            "469/469 [==============================] - 1s 3ms/step - loss: 0.7152 - accuracy: 0.8420 - val_loss: 0.6050 - val_accuracy: 0.8637\n",
            "Epoch 3/20\n",
            "469/469 [==============================] - 1s 3ms/step - loss: 0.5866 - accuracy: 0.8600 - val_loss: 0.5241 - val_accuracy: 0.8752\n",
            "Epoch 4/20\n",
            "469/469 [==============================] - 2s 4ms/step - loss: 0.5249 - accuracy: 0.8692 - val_loss: 0.4784 - val_accuracy: 0.8817\n",
            "Epoch 5/20\n",
            "469/469 [==============================] - 2s 4ms/step - loss: 0.4875 - accuracy: 0.8758 - val_loss: 0.4490 - val_accuracy: 0.8859\n",
            "Epoch 6/20\n",
            "469/469 [==============================] - 1s 3ms/step - loss: 0.4617 - accuracy: 0.8801 - val_loss: 0.4276 - val_accuracy: 0.8901\n",
            "Epoch 7/20\n",
            "469/469 [==============================] - 1s 3ms/step - loss: 0.4426 - accuracy: 0.8836 - val_loss: 0.4117 - val_accuracy: 0.8925\n",
            "Epoch 8/20\n",
            "469/469 [==============================] - 1s 3ms/step - loss: 0.4277 - accuracy: 0.8869 - val_loss: 0.3991 - val_accuracy: 0.8948\n",
            "Epoch 9/20\n",
            "469/469 [==============================] - 1s 3ms/step - loss: 0.4157 - accuracy: 0.8891 - val_loss: 0.3886 - val_accuracy: 0.8964\n",
            "Epoch 10/20\n",
            "469/469 [==============================] - 1s 3ms/step - loss: 0.4057 - accuracy: 0.8909 - val_loss: 0.3800 - val_accuracy: 0.8988\n",
            "Epoch 11/20\n",
            "469/469 [==============================] - 1s 3ms/step - loss: 0.3973 - accuracy: 0.8926 - val_loss: 0.3727 - val_accuracy: 0.9005\n",
            "Epoch 12/20\n",
            "469/469 [==============================] - 2s 3ms/step - loss: 0.3900 - accuracy: 0.8939 - val_loss: 0.3662 - val_accuracy: 0.9024\n",
            "Epoch 13/20\n",
            "469/469 [==============================] - 2s 4ms/step - loss: 0.3836 - accuracy: 0.8957 - val_loss: 0.3607 - val_accuracy: 0.9029\n",
            "Epoch 14/20\n",
            "469/469 [==============================] - 2s 3ms/step - loss: 0.3780 - accuracy: 0.8965 - val_loss: 0.3558 - val_accuracy: 0.9045\n",
            "Epoch 15/20\n",
            "469/469 [==============================] - 1s 3ms/step - loss: 0.3730 - accuracy: 0.8978 - val_loss: 0.3517 - val_accuracy: 0.9055\n",
            "Epoch 16/20\n",
            "469/469 [==============================] - 1s 3ms/step - loss: 0.3685 - accuracy: 0.8986 - val_loss: 0.3476 - val_accuracy: 0.9064\n",
            "Epoch 17/20\n",
            "469/469 [==============================] - 1s 3ms/step - loss: 0.3644 - accuracy: 0.8997 - val_loss: 0.3442 - val_accuracy: 0.9075\n",
            "Epoch 18/20\n",
            "469/469 [==============================] - 2s 4ms/step - loss: 0.3607 - accuracy: 0.9004 - val_loss: 0.3410 - val_accuracy: 0.9076\n",
            "Epoch 19/20\n",
            "469/469 [==============================] - 2s 3ms/step - loss: 0.3573 - accuracy: 0.9014 - val_loss: 0.3379 - val_accuracy: 0.9090\n",
            "Epoch 20/20\n",
            "469/469 [==============================] - 1s 3ms/step - loss: 0.3541 - accuracy: 0.9018 - val_loss: 0.3353 - val_accuracy: 0.9094\n"
          ]
        }
      ],
      "source": [
        "\"\"\"\n",
        "fit() method trains the model on the given training data and labels\n",
        "\n",
        "Arguments :\n",
        "    - X_train    : input training data, which consists of the preprocessed images after converting them to a 1D format.\n",
        "    - Y_train    : the target training data, which consists of the one-hot encoded labels corresponding to the training data.\n",
        "    - batch_size : the number of samples processed at each iteration before updating the model's parameters.\n",
        "    - epochs     : Iteration or number of times the entire training dataset will be passed through the model during training.\n",
        "    - verbose    : shows the progress bar when training\n",
        "    - validation_data : provides the testing data and labels to be used for validation during training.\n",
        "\n",
        "\"\"\"\n",
        "\n",
        "history = model.fit(X_train, Y_train, batch_size=128, epochs=20, verbose=1, validation_data=(X_test, Y_test))"
      ]
    },
    {
      "cell_type": "markdown",
      "metadata": {
        "id": "9R54_0KIADLF"
      },
      "source": [
        "**Basic model evaluation**"
      ]
    },
    {
      "cell_type": "code",
      "execution_count": 28,
      "metadata": {
        "colab": {
          "base_uri": "https://localhost:8080/"
        },
        "id": "KAPflPc9-ynK",
        "outputId": "116b246f-df9f-4383-e2f4-f634798835f6"
      },
      "outputs": [
        {
          "name": "stdout",
          "output_type": "stream",
          "text": [
            "Test score: 0.3353326618671417\n",
            "Test accuracy: 0.9093999862670898\n"
          ]
        }
      ],
      "source": [
        "\"\"\"\n",
        "evaluates the trained neural network model on the testing data (X_test and Y_test)\n",
        "prints the test score and accuracy\n",
        "\n",
        "\"\"\"\n",
        "score = model.evaluate(X_test, Y_test, verbose=0)\n",
        "print('Test score:', score[0])\n",
        "print('Test accuracy:', score[1])"
      ]
    },
    {
      "cell_type": "markdown",
      "metadata": {
        "id": "HFrZZEtZAxzo"
      },
      "source": [
        "**Let's visualize the test results**"
      ]
    },
    {
      "cell_type": "code",
      "execution_count": 34,
      "metadata": {
        "colab": {
          "base_uri": "https://localhost:8080/",
          "height": 501
        },
        "id": "ONLI-XUC_zql",
        "outputId": "b4382c34-fa2d-42cc-dccf-0a67a84881eb"
      },
      "outputs": [
        {
          "name": "stdout",
          "output_type": "stream",
          "text": [
            "313/313 [==============================] - 0s 1ms/step\n",
            "[7.3527393e-05 6.9670583e-05 6.9409165e-05 9.7711378e-01 1.3258168e-05\n",
            " 1.1571190e-02 8.0137681e-05 6.9211628e-03 1.3642245e-03 2.7235535e-03]\n",
            "3\n"
          ]
        },
        {
          "data": {
            "image/png": "[encoded data removed]",
            "text/plain": [
              "<Figure size 640x480 with 1 Axes>"
            ]
          },
          "metadata": {},
          "output_type": "display_data"
        }
      ],
      "source": [
        "\"\"\"\n",
        "image_index : random image (choose < 10000)\n",
        "\n",
        "reshape(28, 28) : the flattened image is set back into a 2D format of 28x28 pixels\n",
        "\n",
        "cmap='Greys' : image will be displayed in black and white.\n",
        "\n",
        "pred[image_index] : retrieves the predicted probabilities for the image at the specified index\n",
        "\n",
        "np.argmax() : index of the maximum value in the predicted probabilities array\n",
        "              indicating the predicted class label.\n",
        "\"\"\"\n",
        "\n",
        "image_index = 30\n",
        "plt.imshow(X_test[image_index].reshape(28, 28),cmap='Greys')\n",
        "pred = model.predict(X_test)\n",
        "print(pred[image_index])\n",
        "print(np.argmax(pred[image_index]))"
      ]
    },
    {
      "cell_type": "markdown",
      "metadata": {
        "id": "bbIoO0NYCJ6D"
      },
      "source": [
        "**Let's dive deep into MLP 💪**"
      ]
    },
    {
      "cell_type": "code",
      "execution_count": 36,
      "metadata": {
        "id": "XBTAJWNXFb_J"
      },
      "outputs": [],
      "source": [
        "# lets define constants for readability\n",
        "NB_EPOCHS = 20\n",
        "BATCH_SIZE = 128"
      ]
    },
    {
      "cell_type": "markdown",
      "metadata": {
        "id": "YkWzo03tF6oD"
      },
      "source": [
        "Model :  MLP + Sigmoid activation + SGDOptimizer"
      ]
    },
    {
      "cell_type": "code",
      "execution_count": 35,
      "metadata": {
        "colab": {
          "base_uri": "https://localhost:8080/"
        },
        "id": "H9IcO-tUB7v4",
        "outputId": "545337c9-472e-476f-8c13-45cea55dfd40"
      },
      "outputs": [
        {
          "name": "stdout",
          "output_type": "stream",
          "text": [
            "Model: \"sequential_1\"\n",
            "_________________________________________________________________\n",
            " Layer (type)                Output Shape              Param #   \n",
            "=================================================================\n",
            " dense_1 (Dense)             (None, 512)               401920    \n",
            "                                                                 \n",
            " dense_2 (Dense)             (None, 128)               65664     \n",
            "                                                                 \n",
            " dense_3 (Dense)             (None, 10)                1290      \n",
            "                                                                 \n",
            "=================================================================\n",
            "Total params: 468,874\n",
            "Trainable params: 468,874\n",
            "Non-trainable params: 0\n",
            "_________________________________________________________________\n"
          ]
        }
      ],
      "source": [
        "\"\"\"\n",
        "model :\n",
        "\n",
        "    Sequential : defines the MLP model\n",
        "    dense_1 : has 512 neurons (specify the input shape)\n",
        "    dense_2 : has 128 neurons (automatically takes the output shape of the previous layer as its input)\n",
        "\n",
        "Summary : defines the model's architecture, showing the number of parameters and the shape of each layer's output.\n",
        "\n",
        "\"\"\"\n",
        "\n",
        "\n",
        "# Multilayer perceptron\n",
        "\n",
        "model_sigmoid = Sequential()\n",
        "model_sigmoid.add(Dense(512, activation='sigmoid', input_shape=(input_dim,)))\n",
        "model_sigmoid.add(Dense(128, activation='sigmoid'))\n",
        "model_sigmoid.add(Dense(output_dim, activation='softmax'))\n",
        "\n",
        "model_sigmoid.summary()\n"
      ]
    },
    {
      "cell_type": "code",
      "execution_count": 37,
      "metadata": {
        "colab": {
          "base_uri": "https://localhost:8080/"
        },
        "id": "3o6vslsZCbFO",
        "outputId": "5b4bf1e2-a346-469f-a910-aefde04a85bc"
      },
      "outputs": [
        {
          "name": "stdout",
          "output_type": "stream",
          "text": [
            "Epoch 1/20\n",
            "469/469 [==============================] - 7s 12ms/step - loss: 2.2690 - accuracy: 0.2095 - val_loss: 2.2231 - val_accuracy: 0.3945\n",
            "Epoch 2/20\n",
            "469/469 [==============================] - 5s 12ms/step - loss: 2.1817 - accuracy: 0.4363 - val_loss: 2.1282 - val_accuracy: 0.5131\n",
            "Epoch 3/20\n",
            "469/469 [==============================] - 6s 13ms/step - loss: 2.0700 - accuracy: 0.5492 - val_loss: 1.9915 - val_accuracy: 0.6132\n",
            "Epoch 4/20\n",
            "469/469 [==============================] - 5s 11ms/step - loss: 1.9125 - accuracy: 0.6155 - val_loss: 1.8075 - val_accuracy: 0.6481\n",
            "Epoch 5/20\n",
            "469/469 [==============================] - 6s 14ms/step - loss: 1.7114 - accuracy: 0.6633 - val_loss: 1.5871 - val_accuracy: 0.7049\n",
            "Epoch 6/20\n",
            "469/469 [==============================] - 5s 11ms/step - loss: 1.4904 - accuracy: 0.7039 - val_loss: 1.3648 - val_accuracy: 0.7245\n",
            "Epoch 7/20\n",
            "469/469 [==============================] - 6s 14ms/step - loss: 1.2807 - accuracy: 0.7369 - val_loss: 1.1691 - val_accuracy: 0.7608\n",
            "Epoch 8/20\n",
            "469/469 [==============================] - 5s 11ms/step - loss: 1.1051 - accuracy: 0.7621 - val_loss: 1.0135 - val_accuracy: 0.7812\n",
            "Epoch 9/20\n",
            "469/469 [==============================] - 6s 12ms/step - loss: 0.9682 - accuracy: 0.7849 - val_loss: 0.8948 - val_accuracy: 0.8010\n",
            "Epoch 10/20\n",
            "469/469 [==============================] - 7s 15ms/step - loss: 0.8643 - accuracy: 0.8011 - val_loss: 0.8056 - val_accuracy: 0.8118\n",
            "Epoch 11/20\n",
            "469/469 [==============================] - 7s 15ms/step - loss: 0.7843 - accuracy: 0.8134 - val_loss: 0.7348 - val_accuracy: 0.8249\n",
            "Epoch 12/20\n",
            "469/469 [==============================] - 6s 13ms/step - loss: 0.7215 - accuracy: 0.8250 - val_loss: 0.6787 - val_accuracy: 0.8357\n",
            "Epoch 13/20\n",
            "469/469 [==============================] - 7s 15ms/step - loss: 0.6709 - accuracy: 0.8343 - val_loss: 0.6337 - val_accuracy: 0.8427\n",
            "Epoch 14/20\n",
            "469/469 [==============================] - 5s 11ms/step - loss: 0.6296 - accuracy: 0.8414 - val_loss: 0.5954 - val_accuracy: 0.8503\n",
            "Epoch 15/20\n",
            "469/469 [==============================] - 5s 11ms/step - loss: 0.5953 - accuracy: 0.8490 - val_loss: 0.5639 - val_accuracy: 0.8559\n",
            "Epoch 16/20\n",
            "469/469 [==============================] - 8s 17ms/step - loss: 0.5663 - accuracy: 0.8554 - val_loss: 0.5371 - val_accuracy: 0.8630\n",
            "Epoch 17/20\n",
            "469/469 [==============================] - 6s 12ms/step - loss: 0.5415 - accuracy: 0.8600 - val_loss: 0.5148 - val_accuracy: 0.8670\n",
            "Epoch 18/20\n",
            "469/469 [==============================] - 7s 16ms/step - loss: 0.5201 - accuracy: 0.8651 - val_loss: 0.4944 - val_accuracy: 0.8713\n",
            "Epoch 19/20\n",
            "469/469 [==============================] - 5s 11ms/step - loss: 0.5016 - accuracy: 0.8683 - val_loss: 0.4770 - val_accuracy: 0.8759\n",
            "Epoch 20/20\n",
            "469/469 [==============================] - 6s 13ms/step - loss: 0.4853 - accuracy: 0.8712 - val_loss: 0.4613 - val_accuracy: 0.8784\n"
          ]
        }
      ],
      "source": [
        "model_sigmoid.compile(optimizer='sgd', loss='categorical_crossentropy', metrics=['accuracy'])\n",
        "history = model_sigmoid.fit(X_train, Y_train, batch_size=BATCH_SIZE, epochs=NB_EPOCHS, verbose=1, validation_data=(X_test, Y_test))"
      ]
    },
    {
      "cell_type": "code",
      "execution_count": 38,
      "metadata": {
        "colab": {
          "base_uri": "https://localhost:8080/"
        },
        "id": "aWOo2LNaGV7T",
        "outputId": "c86dc615-5cb4-42fb-f4ca-a0097976d827"
      },
      "outputs": [
        {
          "name": "stdout",
          "output_type": "stream",
          "text": [
            "Test score: 0.3353326618671417\n",
            "Test accuracy: 0.9093999862670898\n"
          ]
        }
      ],
      "source": [
        "\"\"\"\n",
        "evaluates the trained neural network model on the testing data (X_test and Y_test)\n",
        "prints the test score and accuracy\n",
        "\n",
        "\"\"\"\n",
        "score = model.evaluate(X_test, Y_test, verbose=0)\n",
        "print('Test score:', score[0])\n",
        "print('Test accuracy:', score[1])"
      ]
    },
    {
      "cell_type": "code",
      "execution_count": 40,
      "metadata": {
        "colab": {
          "base_uri": "https://localhost:8080/",
          "height": 501
        },
        "id": "Ajf4P7BkGV1R",
        "outputId": "5cef1d97-c1d4-40f0-d16a-5569a3557ec7"
      },
      "outputs": [
        {
          "name": "stdout",
          "output_type": "stream",
          "text": [
            "313/313 [==============================] - 1s 3ms/step\n",
            "[7.2837214e-04 1.6410019e-03 7.1181974e-04 8.9970487e-01 7.6029602e-05\n",
            " 6.8559922e-02 8.8733294e-05 1.5558334e-02 9.5163621e-03 3.4145541e-03]\n",
            "3\n"
          ]
        },
        {
          "data": {
            "image/png": "[encoded data removed]",
            "text/plain": [
              "<Figure size 640x480 with 1 Axes>"
            ]
          },
          "metadata": {},
          "output_type": "display_data"
        }
      ],
      "source": [
        "\"\"\"\n",
        "image_index : random image (choose < 10000)\n",
        "\n",
        "reshape(28, 28) : the flattened image is set back into a 2D format of 28x28 pixels\n",
        "\n",
        "cmap='Greys' : image will be displayed in black and white.\n",
        "\n",
        "pred[image_index] : retrieves the predicted probabilities for the image at the specified index\n",
        "\n",
        "np.argmax() : index of the maximum value in the predicted probabilities array\n",
        "              indicating the predicted class label.\n",
        "\"\"\"\n",
        "\n",
        "image_index = 30\n",
        "plt.imshow(X_test[image_index].reshape(28, 28),cmap='Greys')\n",
        "pred = model_sigmoid.predict(X_test)\n",
        "print(pred[image_index])\n",
        "print(np.argmax(pred[image_index]))"
      ]
    },
    {
      "cell_type": "markdown",
      "metadata": {
        "id": "-TYrwcZTF-Zf"
      },
      "source": [
        " Model : MLP + Sigmoid activation + ADAM Optimizer"
      ]
    },
    {
      "cell_type": "code",
      "execution_count": 42,
      "metadata": {
        "colab": {
          "base_uri": "https://localhost:8080/"
        },
        "id": "KwWvgTOVGEyv",
        "outputId": "e181e962-4a73-4bc4-9957-0f5f13e270ec"
      },
      "outputs": [
        {
          "name": "stdout",
          "output_type": "stream",
          "text": [
            "Model: \"sequential_3\"\n",
            "_________________________________________________________________\n",
            " Layer (type)                Output Shape              Param #   \n",
            "=================================================================\n",
            " dense_7 (Dense)             (None, 512)               401920    \n",
            "                                                                 \n",
            " dense_8 (Dense)             (None, 128)               65664     \n",
            "                                                                 \n",
            " dense_9 (Dense)             (None, 10)                1290      \n",
            "                                                                 \n",
            "=================================================================\n",
            "Total params: 468,874\n",
            "Trainable params: 468,874\n",
            "Non-trainable params: 0\n",
            "_________________________________________________________________\n",
            "Epoch 1/20\n",
            "469/469 [==============================] - 12s 23ms/step - loss: 0.5572 - accuracy: 0.8503 - val_loss: 0.2525 - val_accuracy: 0.9250\n",
            "Epoch 2/20\n",
            "469/469 [==============================] - 11s 23ms/step - loss: 0.2238 - accuracy: 0.9346 - val_loss: 0.1895 - val_accuracy: 0.9438\n",
            "Epoch 3/20\n",
            "469/469 [==============================] - 7s 14ms/step - loss: 0.1649 - accuracy: 0.9506 - val_loss: 0.1451 - val_accuracy: 0.9564\n",
            "Epoch 4/20\n",
            "469/469 [==============================] - 7s 16ms/step - loss: 0.1270 - accuracy: 0.9619 - val_loss: 0.1189 - val_accuracy: 0.9637\n",
            "Epoch 5/20\n",
            "469/469 [==============================] - 7s 14ms/step - loss: 0.1004 - accuracy: 0.9705 - val_loss: 0.1082 - val_accuracy: 0.9661\n",
            "Epoch 6/20\n",
            "469/469 [==============================] - 7s 14ms/step - loss: 0.0792 - accuracy: 0.9766 - val_loss: 0.0934 - val_accuracy: 0.9710\n",
            "Epoch 7/20\n",
            "469/469 [==============================] - 7s 15ms/step - loss: 0.0636 - accuracy: 0.9811 - val_loss: 0.0862 - val_accuracy: 0.9724\n",
            "Epoch 8/20\n",
            "469/469 [==============================] - 7s 14ms/step - loss: 0.0525 - accuracy: 0.9844 - val_loss: 0.0790 - val_accuracy: 0.9755\n",
            "Epoch 9/20\n",
            "469/469 [==============================] - 7s 15ms/step - loss: 0.0420 - accuracy: 0.9880 - val_loss: 0.0716 - val_accuracy: 0.9785\n",
            "Epoch 10/20\n",
            "469/469 [==============================] - 6s 13ms/step - loss: 0.0343 - accuracy: 0.9902 - val_loss: 0.0688 - val_accuracy: 0.9781\n",
            "Epoch 11/20\n",
            "469/469 [==============================] - 7s 16ms/step - loss: 0.0265 - accuracy: 0.9929 - val_loss: 0.0716 - val_accuracy: 0.9778\n",
            "Epoch 12/20\n",
            "469/469 [==============================] - 7s 16ms/step - loss: 0.0221 - accuracy: 0.9942 - val_loss: 0.0736 - val_accuracy: 0.9777\n",
            "Epoch 13/20\n",
            "469/469 [==============================] - 10s 21ms/step - loss: 0.0178 - accuracy: 0.9957 - val_loss: 0.0690 - val_accuracy: 0.9785\n",
            "Epoch 14/20\n",
            "469/469 [==============================] - 6s 13ms/step - loss: 0.0132 - accuracy: 0.9967 - val_loss: 0.0644 - val_accuracy: 0.9808\n",
            "Epoch 15/20\n",
            "469/469 [==============================] - 8s 16ms/step - loss: 0.0112 - accuracy: 0.9974 - val_loss: 0.0668 - val_accuracy: 0.9799\n",
            "Epoch 16/20\n",
            "469/469 [==============================] - 8s 16ms/step - loss: 0.0081 - accuracy: 0.9984 - val_loss: 0.0617 - val_accuracy: 0.9827\n",
            "Epoch 17/20\n",
            "469/469 [==============================] - 6s 13ms/step - loss: 0.0067 - accuracy: 0.9987 - val_loss: 0.0670 - val_accuracy: 0.9805\n",
            "Epoch 18/20\n",
            "469/469 [==============================] - 7s 16ms/step - loss: 0.0060 - accuracy: 0.9987 - val_loss: 0.0722 - val_accuracy: 0.9798\n",
            "Epoch 19/20\n",
            "469/469 [==============================] - 6s 13ms/step - loss: 0.0051 - accuracy: 0.9991 - val_loss: 0.0749 - val_accuracy: 0.9786\n",
            "Epoch 20/20\n",
            "469/469 [==============================] - 7s 15ms/step - loss: 0.0038 - accuracy: 0.9995 - val_loss: 0.0701 - val_accuracy: 0.9816\n"
          ]
        }
      ],
      "source": [
        "model_adam = Sequential()\n",
        "model_adam.add(Dense(512, activation='sigmoid', input_shape=(input_dim,)))\n",
        "model_adam.add(Dense(128, activation='sigmoid'))\n",
        "model_adam.add(Dense(output_dim, activation='softmax'))\n",
        "\n",
        "model_adam.summary()\n",
        "model_adam.compile(optimizer='adam', loss='categorical_crossentropy', metrics=['accuracy'])\n",
        "\n",
        "history_adam = model_adam.fit(X_train, Y_train, batch_size=BATCH_SIZE, epochs=NB_EPOCHS, verbose=1, validation_data=(X_test, Y_test))"
      ]
    },
    {
      "cell_type": "code",
      "execution_count": 43,
      "metadata": {
        "colab": {
          "base_uri": "https://localhost:8080/"
        },
        "id": "8RmFolbCFaAc",
        "outputId": "82423d62-23d7-4508-bfa3-8d6471d3fa91"
      },
      "outputs": [
        {
          "name": "stdout",
          "output_type": "stream",
          "text": [
            "Test score: 0.07010535895824432\n",
            "Test accuracy: 0.9815999865531921\n"
          ]
        }
      ],
      "source": [
        "score = model_adam.evaluate(X_test, Y_test, verbose=0)\n",
        "print('Test score:', score[0])\n",
        "print('Test accuracy:', score[1])"
      ]
    },
    {
      "cell_type": "code",
      "execution_count": 49,
      "metadata": {
        "colab": {
          "base_uri": "https://localhost:8080/",
          "height": 514
        },
        "id": "By01ft9oHWH4",
        "outputId": "10aaa9a8-c7b0-4b20-ded8-89307547247b"
      },
      "outputs": [
        {
          "name": "stderr",
          "output_type": "stream",
          "text": [
            "<ipython-input-49-5319e87e68df>:12: MatplotlibDeprecationWarning: Auto-removal of overlapping axes is deprecated since 3.6 and will be removed two minor releases later; explicitly call ax.remove() as needed.\n",
            "  plt.subplot(1, 3, 1)\n"
          ]
        },
        {
          "data": {
            "image/png": "[encoded data removed]",
            "text/plain": [
              "<Figure size 640x480 with 3 Axes>"
            ]
          },
          "metadata": {},
          "output_type": "display_data"
        }
      ],
      "source": [
        "import seaborn as sns\n",
        "\n",
        "w_after = model_adam.get_weights()\n",
        "\n",
        "h1_w = w_after[0].flatten().reshape(-1,1)\n",
        "h2_w = w_after[2].flatten().reshape(-1,1)\n",
        "out_w = w_after[4].flatten().reshape(-1,1)\n",
        "\n",
        "\n",
        "fig = plt.figure()\n",
        "plt.title(\"Weight matrices after model trained\")\n",
        "plt.subplot(1, 3, 1)\n",
        "plt.title(\"Trained model Weights\")\n",
        "ax = sns.violinplot(y=h1_w,color='b')\n",
        "plt.xlabel('Hidden Layer 1')\n",
        "\n",
        "plt.subplot(1, 3, 2)\n",
        "plt.title(\"Trained model Weights\")\n",
        "ax = sns.violinplot(y=h2_w, color='r')\n",
        "plt.xlabel('Hidden Layer 2 ')\n",
        "\n",
        "plt.subplot(1, 3, 3)\n",
        "plt.title(\"Trained model Weights\")\n",
        "ax = sns.violinplot(y=out_w,color='y')\n",
        "plt.xlabel('Output Layer ')\n",
        "plt.show()"
      ]
    },
    {
      "cell_type": "markdown",
      "metadata": {
        "id": "n5xHTqGaIGWI"
      },
      "source": [
        " Model : MLP + ReLu Activation + ADAM Optimizer"
      ]
    },
    {
      "cell_type": "code",
      "execution_count": 50,
      "metadata": {
        "colab": {
          "base_uri": "https://localhost:8080/"
        },
        "id": "3rQCssfsH7BQ",
        "outputId": "f16ddc36-efa2-4d2b-d338-d719928ac94b"
      },
      "outputs": [
        {
          "name": "stdout",
          "output_type": "stream",
          "text": [
            "Model: \"sequential_4\"\n",
            "_________________________________________________________________\n",
            " Layer (type)                Output Shape              Param #   \n",
            "=================================================================\n",
            " dense_10 (Dense)            (None, 512)               401920    \n",
            "                                                                 \n",
            " dense_11 (Dense)            (None, 128)               65664     \n",
            "                                                                 \n",
            " dense_12 (Dense)            (None, 10)                1290      \n",
            "                                                                 \n",
            "=================================================================\n",
            "Total params: 468,874\n",
            "Trainable params: 468,874\n",
            "Non-trainable params: 0\n",
            "_________________________________________________________________\n",
            "None\n",
            "Epoch 1/20\n",
            "469/469 [==============================] - 8s 14ms/step - loss: 0.2288 - accuracy: 0.9331 - val_loss: 0.1079 - val_accuracy: 0.9669\n",
            "Epoch 2/20\n",
            "469/469 [==============================] - 8s 16ms/step - loss: 0.0857 - accuracy: 0.9738 - val_loss: 0.0784 - val_accuracy: 0.9761\n",
            "Epoch 3/20\n",
            "469/469 [==============================] - 8s 16ms/step - loss: 0.0534 - accuracy: 0.9839 - val_loss: 0.0888 - val_accuracy: 0.9727\n",
            "Epoch 4/20\n",
            "469/469 [==============================] - 7s 16ms/step - loss: 0.0367 - accuracy: 0.9885 - val_loss: 0.0882 - val_accuracy: 0.9737\n",
            "Epoch 5/20\n",
            "469/469 [==============================] - 6s 13ms/step - loss: 0.0286 - accuracy: 0.9909 - val_loss: 0.0733 - val_accuracy: 0.9765\n",
            "Epoch 6/20\n",
            "469/469 [==============================] - 9s 18ms/step - loss: 0.0212 - accuracy: 0.9931 - val_loss: 0.0773 - val_accuracy: 0.9793\n",
            "Epoch 7/20\n",
            "469/469 [==============================] - 6s 13ms/step - loss: 0.0157 - accuracy: 0.9950 - val_loss: 0.0986 - val_accuracy: 0.9751\n",
            "Epoch 8/20\n",
            "469/469 [==============================] - 7s 15ms/step - loss: 0.0174 - accuracy: 0.9942 - val_loss: 0.0755 - val_accuracy: 0.9789\n",
            "Epoch 9/20\n",
            "469/469 [==============================] - 6s 14ms/step - loss: 0.0125 - accuracy: 0.9958 - val_loss: 0.0800 - val_accuracy: 0.9800\n",
            "Epoch 10/20\n",
            "469/469 [==============================] - 7s 15ms/step - loss: 0.0131 - accuracy: 0.9959 - val_loss: 0.0873 - val_accuracy: 0.9796\n",
            "Epoch 11/20\n",
            "469/469 [==============================] - 6s 14ms/step - loss: 0.0094 - accuracy: 0.9969 - val_loss: 0.0921 - val_accuracy: 0.9791\n",
            "Epoch 12/20\n",
            "469/469 [==============================] - 7s 15ms/step - loss: 0.0108 - accuracy: 0.9963 - val_loss: 0.0710 - val_accuracy: 0.9838\n",
            "Epoch 13/20\n",
            "469/469 [==============================] - 7s 14ms/step - loss: 0.0079 - accuracy: 0.9973 - val_loss: 0.0973 - val_accuracy: 0.9784\n",
            "Epoch 14/20\n",
            "469/469 [==============================] - 6s 14ms/step - loss: 0.0110 - accuracy: 0.9962 - val_loss: 0.0868 - val_accuracy: 0.9803\n",
            "Epoch 15/20\n",
            "469/469 [==============================] - 7s 14ms/step - loss: 0.0081 - accuracy: 0.9973 - val_loss: 0.0920 - val_accuracy: 0.9804\n",
            "Epoch 16/20\n",
            "469/469 [==============================] - 7s 14ms/step - loss: 0.0100 - accuracy: 0.9968 - val_loss: 0.0716 - val_accuracy: 0.9829\n",
            "Epoch 17/20\n",
            "469/469 [==============================] - 7s 15ms/step - loss: 0.0041 - accuracy: 0.9987 - val_loss: 0.0913 - val_accuracy: 0.9814\n",
            "Epoch 18/20\n",
            "469/469 [==============================] - 6s 14ms/step - loss: 0.0084 - accuracy: 0.9972 - val_loss: 0.0867 - val_accuracy: 0.9824\n",
            "Epoch 19/20\n",
            "469/469 [==============================] - 7s 16ms/step - loss: 0.0087 - accuracy: 0.9972 - val_loss: 0.0933 - val_accuracy: 0.9812\n",
            "Epoch 20/20\n",
            "469/469 [==============================] - 6s 13ms/step - loss: 0.0069 - accuracy: 0.9977 - val_loss: 0.0975 - val_accuracy: 0.9804\n"
          ]
        }
      ],
      "source": [
        "from keras.initializers import RandomNormal  #for normalization\n",
        "\n",
        "model_relu = Sequential()\n",
        "model_relu.add(Dense(512, activation='relu', input_shape=(input_dim,), kernel_initializer=RandomNormal(mean=0.0, stddev=0.062, seed=None)))\n",
        "model_relu.add(Dense(128, activation='relu', kernel_initializer=RandomNormal(mean=0.0, stddev=0.125, seed=None)) )\n",
        "model_relu.add(Dense(output_dim, activation='softmax'))\n",
        "\n",
        "print(model_relu.summary())\n",
        "\n",
        "model_relu.compile(optimizer='adam', loss='categorical_crossentropy', metrics=['accuracy'])\n",
        "\n",
        "history = model_relu.fit(X_train, Y_train, batch_size=BATCH_SIZE, epochs=NB_EPOCHS, verbose=1, validation_data=(X_test, Y_test))"
      ]
    },
    {
      "cell_type": "code",
      "execution_count": 51,
      "metadata": {
        "colab": {
          "base_uri": "https://localhost:8080/"
        },
        "id": "G3A2JEZ-JOUX",
        "outputId": "591c8043-e473-44b8-d720-dc029aa8cf88"
      },
      "outputs": [
        {
          "name": "stdout",
          "output_type": "stream",
          "text": [
            "Test score: 0.09747106581926346\n",
            "Test accuracy: 0.980400025844574\n"
          ]
        }
      ],
      "source": [
        "score = model_relu.evaluate(X_test, Y_test, verbose=0)\n",
        "print('Test score:', score[0])\n",
        "print('Test accuracy:', score[1])"
      ]
    },
    {
      "cell_type": "code",
      "execution_count": 52,
      "metadata": {
        "colab": {
          "base_uri": "https://localhost:8080/",
          "height": 501
        },
        "id": "Z2-bUiHkJTSc",
        "outputId": "242c216d-2073-4953-e2fd-fa1b35de0632"
      },
      "outputs": [
        {
          "name": "stdout",
          "output_type": "stream",
          "text": [
            "313/313 [==============================] - 1s 3ms/step\n",
            "[4.0153721e-28 1.5795681e-26 7.4352799e-24 9.9999994e-01 6.9084597e-30\n",
            " 6.5909477e-21 1.5853539e-30 1.0488066e-23 3.4055208e-17 4.9032432e-23]\n",
            "3\n"
          ]
        },
        {
          "data": {
            "image/png": "[encoded data removed]",
            "text/plain": [
              "<Figure size 640x480 with 1 Axes>"
            ]
          },
          "metadata": {},
          "output_type": "display_data"
        }
      ],
      "source": [
        "\"\"\"\n",
        "image_index : random image (choose < 10000)\n",
        "\n",
        "reshape(28, 28) : the flattened image is set back into a 2D format of 28x28 pixels\n",
        "\n",
        "cmap='Greys' : image will be displayed in black and white.\n",
        "\n",
        "pred[image_index] : retrieves the predicted probabilities for the image at the specified index\n",
        "\n",
        "np.argmax() : index of the maximum value in the predicted probabilities array\n",
        "              indicating the predicted class label.\n",
        "\"\"\"\n",
        "\n",
        "image_index = 30\n",
        "plt.imshow(X_test[image_index].reshape(28, 28),cmap='Greys')\n",
        "pred = model_relu.predict(X_test)\n",
        "print(pred[image_index])\n",
        "print(np.argmax(pred[image_index]))"
      ]
    },
    {
      "cell_type": "markdown",
      "metadata": {
        "id": "ivx8NKyyJnrl"
      },
      "source": []
    },
    {
      "cell_type": "code",
      "execution_count": 54,
      "metadata": {
        "colab": {
          "base_uri": "https://localhost:8080/"
        },
        "id": "l_zCovcIJoAy",
        "outputId": "c317cc2f-2418-4b40-a43a-cecc3c0cab1b"
      },
      "outputs": [
        {
          "name": "stdout",
          "output_type": "stream",
          "text": [
            "Model: \"sequential_5\"\n",
            "_________________________________________________________________\n",
            " Layer (type)                Output Shape              Param #   \n",
            "=================================================================\n",
            " dense_13 (Dense)            (None, 512)               401920    \n",
            "                                                                 \n",
            " batch_normalization (BatchN  (None, 512)              2048      \n",
            " ormalization)                                                   \n",
            "                                                                 \n",
            " dense_14 (Dense)            (None, 128)               65664     \n",
            "                                                                 \n",
            " batch_normalization_1 (Batc  (None, 128)              512       \n",
            " hNormalization)                                                 \n",
            "                                                                 \n",
            " dense_15 (Dense)            (None, 10)                1290      \n",
            "                                                                 \n",
            "=================================================================\n",
            "Total params: 471,434\n",
            "Trainable params: 470,154\n",
            "Non-trainable params: 1,280\n",
            "_________________________________________________________________\n"
          ]
        }
      ],
      "source": [
        "# If we sample weights from a normal distribution N(0,σ) we satisfy this condition with σ=√(2/(ni+ni+1).\n",
        "# h1 =>  σ=√(2/(ni+ni+1) = 0.039  => N(0,σ) = N(0,0.039)\n",
        "# h2 =>  σ=√(2/(ni+ni+1) = 0.055  => N(0,σ) = N(0,0.055)\n",
        "# h1 =>  σ=√(2/(ni+ni+1) = 0.120  => N(0,σ) = N(0,0.120)\n",
        "\n",
        "from tensorflow.keras.layers import BatchNormalization\n",
        "\n",
        "model_batch = Sequential()\n",
        "\n",
        "model_batch.add(Dense(512, activation='sigmoid', input_shape=(input_dim,), kernel_initializer=RandomNormal(mean=0.0, stddev=0.039, seed=None)))\n",
        "model_batch.add(BatchNormalization())\n",
        "\n",
        "model_batch.add(Dense(128, activation='sigmoid', kernel_initializer=RandomNormal(mean=0.0, stddev=0.55, seed=None)) )\n",
        "model_batch.add(BatchNormalization())\n",
        "\n",
        "model_batch.add(Dense(output_dim, activation='softmax'))\n",
        "\n",
        "model_batch.summary()"
      ]
    },
    {
      "cell_type": "code",
      "execution_count": 55,
      "metadata": {
        "colab": {
          "base_uri": "https://localhost:8080/"
        },
        "id": "8MPZc-M6Jt-l",
        "outputId": "c7e8f8e5-46b7-4e2b-ab99-e06c8d0f67a7"
      },
      "outputs": [
        {
          "name": "stdout",
          "output_type": "stream",
          "text": [
            "Epoch 1/20\n",
            "469/469 [==============================] - 10s 17ms/step - loss: 0.3003 - accuracy: 0.9111 - val_loss: 0.2158 - val_accuracy: 0.9380\n",
            "Epoch 2/20\n",
            "469/469 [==============================] - 8s 17ms/step - loss: 0.1745 - accuracy: 0.9494 - val_loss: 0.1724 - val_accuracy: 0.9488\n",
            "Epoch 3/20\n",
            "469/469 [==============================] - 8s 16ms/step - loss: 0.1356 - accuracy: 0.9600 - val_loss: 0.1457 - val_accuracy: 0.9567\n",
            "Epoch 4/20\n",
            "469/469 [==============================] - 7s 15ms/step - loss: 0.1129 - accuracy: 0.9665 - val_loss: 0.1410 - val_accuracy: 0.9571\n",
            "Epoch 5/20\n",
            "469/469 [==============================] - 8s 17ms/step - loss: 0.0963 - accuracy: 0.9705 - val_loss: 0.1173 - val_accuracy: 0.9658\n",
            "Epoch 6/20\n",
            "469/469 [==============================] - 7s 16ms/step - loss: 0.0834 - accuracy: 0.9748 - val_loss: 0.1232 - val_accuracy: 0.9640\n",
            "Epoch 7/20\n",
            "469/469 [==============================] - 11s 23ms/step - loss: 0.0715 - accuracy: 0.9780 - val_loss: 0.1051 - val_accuracy: 0.9670\n",
            "Epoch 8/20\n",
            "469/469 [==============================] - 8s 17ms/step - loss: 0.0618 - accuracy: 0.9811 - val_loss: 0.0989 - val_accuracy: 0.9688\n",
            "Epoch 9/20\n",
            "469/469 [==============================] - 7s 15ms/step - loss: 0.0500 - accuracy: 0.9845 - val_loss: 0.1054 - val_accuracy: 0.9682\n",
            "Epoch 10/20\n",
            "469/469 [==============================] - 8s 17ms/step - loss: 0.0462 - accuracy: 0.9853 - val_loss: 0.1087 - val_accuracy: 0.9674\n",
            "Epoch 11/20\n",
            "469/469 [==============================] - 8s 17ms/step - loss: 0.0400 - accuracy: 0.9874 - val_loss: 0.0987 - val_accuracy: 0.9706\n",
            "Epoch 12/20\n",
            "469/469 [==============================] - 8s 16ms/step - loss: 0.0348 - accuracy: 0.9888 - val_loss: 0.0970 - val_accuracy: 0.9705\n",
            "Epoch 13/20\n",
            "469/469 [==============================] - 8s 17ms/step - loss: 0.0282 - accuracy: 0.9913 - val_loss: 0.0948 - val_accuracy: 0.9718\n",
            "Epoch 14/20\n",
            "469/469 [==============================] - 7s 15ms/step - loss: 0.0260 - accuracy: 0.9917 - val_loss: 0.0912 - val_accuracy: 0.9733\n",
            "Epoch 15/20\n",
            "469/469 [==============================] - 8s 17ms/step - loss: 0.0247 - accuracy: 0.9920 - val_loss: 0.0944 - val_accuracy: 0.9728\n",
            "Epoch 16/20\n",
            "469/469 [==============================] - 7s 15ms/step - loss: 0.0251 - accuracy: 0.9918 - val_loss: 0.0968 - val_accuracy: 0.9727\n",
            "Epoch 17/20\n",
            "469/469 [==============================] - 8s 17ms/step - loss: 0.0207 - accuracy: 0.9930 - val_loss: 0.0940 - val_accuracy: 0.9747\n",
            "Epoch 18/20\n",
            "469/469 [==============================] - 8s 16ms/step - loss: 0.0200 - accuracy: 0.9937 - val_loss: 0.0934 - val_accuracy: 0.9738\n",
            "Epoch 19/20\n",
            "469/469 [==============================] - 7s 16ms/step - loss: 0.0159 - accuracy: 0.9948 - val_loss: 0.0827 - val_accuracy: 0.9771\n",
            "Epoch 20/20\n",
            "469/469 [==============================] - 8s 17ms/step - loss: 0.0141 - accuracy: 0.9954 - val_loss: 0.0910 - val_accuracy: 0.9757\n"
          ]
        }
      ],
      "source": [
        "model_batch.compile(optimizer='adam', loss='categorical_crossentropy', metrics=['accuracy'])\n",
        "\n",
        "history_batch = model_batch.fit(X_train, Y_train, batch_size=BATCH_SIZE, epochs=NB_EPOCHS, verbose=1, validation_data=(X_test, Y_test))"
      ]
    },
    {
      "cell_type": "code",
      "execution_count": 57,
      "metadata": {
        "colab": {
          "base_uri": "https://localhost:8080/"
        },
        "id": "Q-JVByPlKRb_",
        "outputId": "96874884-5266-4bb2-8611-4fa51c8a688a"
      },
      "outputs": [
        {
          "name": "stdout",
          "output_type": "stream",
          "text": [
            "Test score: 0.09101016074419022\n",
            "Test accuracy: 0.9757000207901001\n"
          ]
        }
      ],
      "source": [
        "score = model_batch.evaluate(X_test, Y_test, verbose=0)\n",
        "print('Test score:', score[0])\n",
        "print('Test accuracy:', score[1])"
      ]
    },
    {
      "cell_type": "markdown",
      "metadata": {
        "id": "wb7wXuvkKIDk"
      },
      "source": [
        "**Let's do some plotting**"
      ]
    },
    {
      "cell_type": "code",
      "execution_count": 56,
      "metadata": {
        "id": "KUtGw1qIJ9tv"
      },
      "outputs": [],
      "source": [
        "# this function is used to update the plots for each epoch and error\n",
        "# def plt_dynamic(x, vy, ty, ax, colors=['b']):\n",
        "#     ax.plot(x, vy, 'b', label=\"Validation Loss\")\n",
        "#     ax.plot(x, ty, 'r', label=\"Train Loss\")\n",
        "#     plt.legend()\n",
        "#     plt.grid()\n",
        "#     fig.canvas.draw()"
      ]
    },
    {
      "cell_type": "code",
      "execution_count": 59,
      "metadata": {
        "colab": {
          "base_uri": "https://localhost:8080/",
          "height": 449
        },
        "id": "pjZtNm_uKtyc",
        "outputId": "b5e20887-d654-43b1-db8d-1f33ab9b5db3"
      },
      "outputs": [
        {
          "data": {
            "image/png": "[encoded data removed]",
            "text/plain": [
              "<Figure size 640x480 with 1 Axes>"
            ]
          },
          "metadata": {},
          "output_type": "display_data"
        }
      ],
      "source": [
        "fig,ax = plt.subplots(1,1)\n",
        "\n",
        "#set labels for x and y axis\n",
        "ax.set_xlabel('epoch') ;\n",
        "ax.set_ylabel('Loss')\n",
        "\n",
        "# list of epoch numbers - range of x values\n",
        "x = list(range(1,NB_EPOCHS+1))\n",
        "# pick the val_loss values\n",
        "vy = history_batch.history['val_loss']\n",
        "# pick the training_loss values\n",
        "ty = history_batch.history['loss']\n",
        "\n",
        "#plot the values\n",
        "ax.plot(x, vy, 'b', label=\"Validation Loss\")\n",
        "ax.plot(x, ty, 'r', label=\"Train Loss\")\n",
        "plt.legend()\n",
        "plt.grid()\n",
        "fig.canvas.draw()\n",
        "\n",
        "# plt_dynamic(x, vy, ty, ax)"
      ]
    },
    {
      "cell_type": "code",
      "execution_count": null,
      "metadata": {
        "id": "rZm9uldVK9iz"
      },
      "outputs": [],
      "source": []
    }
  ],
  "metadata": {
    "colab": {
      "provenance": []
    },
    "kernelspec": {
      "display_name": "Python 3",
      "name": "python3"
    },
    "language_info": {
      "name": "python"
    }
  },
  "nbformat": 4,
  "nbformat_minor": 0
}
